{
 "cells": [
  {
   "cell_type": "code",
   "execution_count": 4,
   "metadata": {},
   "outputs": [],
   "source": [
    "import pandas as pd\n",
    "from pathlib import Path\n",
    "import csv"
   ]
  },
  {
   "cell_type": "code",
   "execution_count": 5,
   "metadata": {},
   "outputs": [],
   "source": [
    " #Import csv file\n",
    "filepath = Path(\"Data/personal_transactions.csv\")"
   ]
  },
  {
   "cell_type": "code",
   "execution_count": 6,
   "metadata": {},
   "outputs": [
    {
     "data": {
      "text/html": [
       "<div>\n",
       "<style scoped>\n",
       "    .dataframe tbody tr th:only-of-type {\n",
       "        vertical-align: middle;\n",
       "    }\n",
       "\n",
       "    .dataframe tbody tr th {\n",
       "        vertical-align: top;\n",
       "    }\n",
       "\n",
       "    .dataframe thead th {\n",
       "        text-align: right;\n",
       "    }\n",
       "</style>\n",
       "<table border=\"1\" class=\"dataframe\">\n",
       "  <thead>\n",
       "    <tr style=\"text-align: right;\">\n",
       "      <th></th>\n",
       "      <th>Description</th>\n",
       "      <th>Amount</th>\n",
       "      <th>Transaction Type</th>\n",
       "      <th>Category</th>\n",
       "      <th>Account Name</th>\n",
       "    </tr>\n",
       "    <tr>\n",
       "      <th>Date</th>\n",
       "      <th></th>\n",
       "      <th></th>\n",
       "      <th></th>\n",
       "      <th></th>\n",
       "      <th></th>\n",
       "    </tr>\n",
       "  </thead>\n",
       "  <tbody>\n",
       "    <tr>\n",
       "      <th>2018-01-01</th>\n",
       "      <td>Amazon</td>\n",
       "      <td>11.11</td>\n",
       "      <td>debit</td>\n",
       "      <td>Shopping</td>\n",
       "      <td>Platinum Card</td>\n",
       "    </tr>\n",
       "    <tr>\n",
       "      <th>2018-01-02</th>\n",
       "      <td>Mortgage Payment</td>\n",
       "      <td>1247.44</td>\n",
       "      <td>debit</td>\n",
       "      <td>Mortgage &amp; Rent</td>\n",
       "      <td>Checking</td>\n",
       "    </tr>\n",
       "    <tr>\n",
       "      <th>2018-01-02</th>\n",
       "      <td>Thai Restaurant</td>\n",
       "      <td>24.22</td>\n",
       "      <td>debit</td>\n",
       "      <td>Restaurants</td>\n",
       "      <td>Silver Card</td>\n",
       "    </tr>\n",
       "    <tr>\n",
       "      <th>2018-01-03</th>\n",
       "      <td>Credit Card Payment</td>\n",
       "      <td>2298.09</td>\n",
       "      <td>credit</td>\n",
       "      <td>Credit Card Payment</td>\n",
       "      <td>Platinum Card</td>\n",
       "    </tr>\n",
       "    <tr>\n",
       "      <th>2018-01-04</th>\n",
       "      <td>Netflix</td>\n",
       "      <td>11.76</td>\n",
       "      <td>debit</td>\n",
       "      <td>Movies &amp; DVDs</td>\n",
       "      <td>Platinum Card</td>\n",
       "    </tr>\n",
       "  </tbody>\n",
       "</table>\n",
       "</div>"
      ],
      "text/plain": [
       "                    Description   Amount Transaction Type  \\\n",
       "Date                                                        \n",
       "2018-01-01               Amazon    11.11            debit   \n",
       "2018-01-02     Mortgage Payment  1247.44            debit   \n",
       "2018-01-02      Thai Restaurant    24.22            debit   \n",
       "2018-01-03  Credit Card Payment  2298.09           credit   \n",
       "2018-01-04              Netflix    11.76            debit   \n",
       "\n",
       "                       Category   Account Name  \n",
       "Date                                            \n",
       "2018-01-01             Shopping  Platinum Card  \n",
       "2018-01-02      Mortgage & Rent       Checking  \n",
       "2018-01-02          Restaurants    Silver Card  \n",
       "2018-01-03  Credit Card Payment  Platinum Card  \n",
       "2018-01-04        Movies & DVDs  Platinum Card  "
      ]
     },
     "execution_count": 6,
     "metadata": {},
     "output_type": "execute_result"
    }
   ],
   "source": [
    "pd= pd.read_csv(filepath, index_col='Date', infer_datetime_format=True, parse_dates=True)\n",
    "pd.head()"
   ]
  }
 ],
 "metadata": {
  "kernelspec": {
   "display_name": "dev",
   "language": "python",
   "name": "python3"
  },
  "language_info": {
   "codemirror_mode": {
    "name": "ipython",
    "version": 3
   },
   "file_extension": ".py",
   "mimetype": "text/x-python",
   "name": "python",
   "nbconvert_exporter": "python",
   "pygments_lexer": "ipython3",
   "version": "3.10.13"
  }
 },
 "nbformat": 4,
 "nbformat_minor": 2
}
